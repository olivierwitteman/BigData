{
 "cells": [
  {
   "cell_type": "code",
   "execution_count": 52,
   "metadata": {
    "collapsed": true,
    "pycharm": {
     "is_executing": false
    }
   },
   "outputs": [],
   "source": [
    "from sklearn.neural_network import MLPRegressor\n",
    "from sklearn.datasets import make_regression\n",
    "import numpy as np\n",
    "import time\n",
    "import scipy.stats as sps\n"
   ]
  },
  {
   "cell_type": "code",
   "execution_count": 59,
   "outputs": [
    {
     "name": "stdout",
     "text": [
      "DescribeResult(nobs=30, minmax=(0.6037499904632568, 1.6705362796783447), mean=0.8447424173355103, variance=0.04996150197697665, skewness=2.1821572925169974, kurtosis=5.220757543441145)))\n",
      "Average time: 1.0s\n"
     ],
     "output_type": "stream"
    }
   ],
   "source": [
    "nn = MLPRegressor(hidden_layer_sizes=(100, 100, 100, 100), max_iter=30)\n",
    "\n",
    "X, y = make_regression(n_samples=int(1e3), n_features=8, random_state=0)\n",
    "\n",
    "n = 30\n",
    "tlst = []\n",
    "\n",
    "\n",
    "for _ in range(n):\n",
    "    t0 = time.time()\n",
    "    nn.fit(X, y)\n",
    "    tlst.append(time.time()-t0)\n",
    "\n",
    "    print('\\r{!s}'.format(sps.describe(tlst)), end='')\n",
    "\n",
    "print('\\nAverage time: {!s}s'.format(round(np.average(tlst))))\n",
    "\n",
    "\n",
    "y_hat = nn.predict(X)"
   ],
   "metadata": {
    "collapsed": false,
    "pycharm": {
     "name": "#%%\n",
     "is_executing": false
    }
   }
  },
  {
   "cell_type": "code",
   "execution_count": 50,
   "outputs": [
    {
     "data": {
      "text/plain": "0.05327685873964983"
     },
     "metadata": {},
     "output_type": "execute_result",
     "execution_count": 50
    }
   ],
   "source": [
    "np.mean(np.abs(y-y_hat))\n"
   ],
   "metadata": {
    "collapsed": false,
    "pycharm": {
     "name": "#%%\n",
     "is_executing": false
    }
   }
  }
 ],
 "metadata": {
  "kernelspec": {
   "display_name": "Python 3",
   "language": "python",
   "name": "python3"
  },
  "language_info": {
   "codemirror_mode": {
    "name": "ipython",
    "version": 2
   },
   "file_extension": ".py",
   "mimetype": "text/x-python",
   "name": "python",
   "nbconvert_exporter": "python",
   "pygments_lexer": "ipython2",
   "version": "2.7.6"
  },
  "pycharm": {
   "stem_cell": {
    "cell_type": "raw",
    "source": [],
    "metadata": {
     "collapsed": false
    }
   }
  }
 },
 "nbformat": 4,
 "nbformat_minor": 0
}