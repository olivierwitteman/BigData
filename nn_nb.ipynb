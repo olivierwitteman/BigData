{
 "cells": [
  {
   "cell_type": "code",
   "execution_count": 1,
   "metadata": {
    "collapsed": true,
    "pycharm": {
     "is_executing": false
    }
   },
   "outputs": [],
   "source": [
    "from sklearn.neural_network import MLPRegressor\n",
    "from sklearn.datasets import make_regression\n",
    "import numpy as np\n",
    "import time\n",
    "import scipy.stats as sps\n",
    "\n",
    "from scitime import Estimator\n"
   ]
  },
  {
   "cell_type": "code",
   "execution_count": null,
   "outputs": [],
   "source": [
    "# example for kmeans clustering\n",
    "estimator = Estimator(meta_algo='RF', verbose=3)\n",
    "nn = MLPRegressor(hidden_layer_sizes=(1, 1))\n",
    "\n",
    "# generating inputs for this example\n",
    "# X = np.random.rand(100000, 10)\n",
    "\n",
    "X, y = make_regression(n_samples=int(5e4), n_features=8, random_state=0)\n",
    "\n",
    "# run the estimation\n",
    "\n",
    "n = 30\n",
    "tlst = []\n",
    "\n",
    "\n",
    "for _ in range(n):\n",
    "    t0 = time.time()\n",
    "    nn.fit(X, y)\n",
    "    tlst.append(time.time()-t0)\n",
    "\n",
    "    print('\\r{!s}'.format(sps.describe(tlst)), end='')\n",
    "\n",
    "print('Average time: {!s}s'.format(round(np.average(tlst))))\n",
    "\n",
    "\n",
    "y = nn.predict(X)\n",
    "\n",
    "print(y.shape)\n"
   ],
   "metadata": {
    "collapsed": false,
    "pycharm": {
     "name": "#%%\n"
    }
   }
  }
 ],
 "metadata": {
  "kernelspec": {
   "display_name": "Python 3",
   "language": "python",
   "name": "python3"
  },
  "language_info": {
   "codemirror_mode": {
    "name": "ipython",
    "version": 2
   },
   "file_extension": ".py",
   "mimetype": "text/x-python",
   "name": "python",
   "nbconvert_exporter": "python",
   "pygments_lexer": "ipython2",
   "version": "2.7.6"
  },
  "pycharm": {
   "stem_cell": {
    "cell_type": "raw",
    "source": [],
    "metadata": {
     "collapsed": false
    }
   }
  }
 },
 "nbformat": 4,
 "nbformat_minor": 0
}