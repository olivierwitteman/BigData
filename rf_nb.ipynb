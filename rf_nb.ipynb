{
 "cells": [
  {
   "cell_type": "code",
   "execution_count": 1,
   "metadata": {
    "collapsed": true,
    "pycharm": {
     "is_executing": false
    }
   },
   "outputs": [],
   "source": [
    "from sklearn.ensemble import RandomForestRegressor\n",
    "from sklearn.datasets import make_regression\n",
    "import numpy as np\n",
    "import time\n",
    "import scipy.stats as sps\n",
    "\n",
    "from scitime import Estimator"
   ]
  },
  {
   "cell_type": "code",
   "execution_count": 13,
   "outputs": [
    {
     "name": "stderr",
     "text": [
      "scitime.estimate.Estimator:DEBUG:The model would fit. Moving on\n",
      "scitime.estimate.Estimator:DEBUG:Fetching estimator: RF_RandomForestRegressor_estimator.pkl\n",
      "scitime.estimate.Estimator:INFO:Training your model for these params: {'total_memory': [8589934592], 'available_memory': [2198732800], 'num_cpu': [4], 'num_rows': [500000], 'num_features': [8], 'n_estimators': [100], 'max_depth': [None], 'min_samples_split': [2], 'min_samples_leaf': [1], 'min_weight_fraction_leaf': [0.0], 'max_features': ['auto'], 'criterion': ['mse'], 'max_leaf_nodes': [None], 'min_impurity_decrease': [0.0], 'min_impurity_split': [None], 'bootstrap': [True], 'oob_score': [False], 'n_jobs': [None]}\n",
      "scitime.estimate.Estimator:INFO:Transforming dataset for semi dummy features\n",
      "scitime.estimate.Estimator:WARNING:Parameters ['random_state', 'ccp_alpha', 'max_samples', 'verbose', 'warm_start'] will not be accounted for\n",
      "scitime.estimate.Estimator:INFO:Training your RandomForestRegressor model should take ~ 1 minute\n",
      "                and 44 seconds\n",
      "scitime.estimate.Estimator:INFO:The 95.0% prediction interval is [1 second, 6 minutes\n",
      "                and 18 seconds]\n"
     ],
     "output_type": "stream"
    },
    {
     "name": "stdout",
     "text": [
      "DescribeResult(nobs=1, minmax=(568.9392960071564, 568.9392960071564), mean=568.9392960071564, variance=nan, skewness=0.0, kurtosis=-3.0)Average time: 569.0s\n",
      "(500000,)\n"
     ],
     "output_type": "stream"
    }
   ],
   "source": [
    "estimator = Estimator(meta_algo='RF', verbose=3)\n",
    "rfr = RandomForestRegressor()\n",
    "\n",
    "X, y = make_regression(n_samples=int(5e5), n_features=8, random_state=0)\n",
    "\n",
    "estimation, lower_bound, upper_bound = estimator.time(rfr, X, y=y)\n",
    "\n",
    "n = 1\n",
    "tlst = []\n",
    "\n",
    "\n",
    "for _ in range(n):\n",
    "    t0 = time.time()\n",
    "    rfr.fit(X, y)\n",
    "    tlst.append(time.time()-t0)\n",
    "\n",
    "    print('\\r{!s}'.format(sps.describe(tlst)), end='')\n",
    "\n",
    "print('\\nAverage time: {!s}s'.format(round(np.average(tlst))))\n",
    "\n",
    "\n",
    "y_hat = rfr.predict(X)\n",
    "\n",
    "print(y.shape)"
   ],
   "metadata": {
    "collapsed": false,
    "pycharm": {
     "name": "#%%\n",
     "is_executing": false
    }
   }
  },
  {
   "cell_type": "code",
   "execution_count": 14,
   "outputs": [
    {
     "data": {
      "text/plain": "8.4428466923989"
     },
     "metadata": {},
     "output_type": "execute_result",
     "execution_count": 14
    }
   ],
   "source": [
    "np.mean(np.abs(y-y_hat))"
   ],
   "metadata": {
    "collapsed": false,
    "pycharm": {
     "name": "#%%\n",
     "is_executing": false
    }
   }
  }
 ],
 "metadata": {
  "kernelspec": {
   "display_name": "Python 3",
   "language": "python",
   "name": "python3"
  },
  "language_info": {
   "codemirror_mode": {
    "name": "ipython",
    "version": 2
   },
   "file_extension": ".py",
   "mimetype": "text/x-python",
   "name": "python",
   "nbconvert_exporter": "python",
   "pygments_lexer": "ipython2",
   "version": "2.7.6"
  },
  "pycharm": {
   "stem_cell": {
    "cell_type": "raw",
    "source": [],
    "metadata": {
     "collapsed": false
    }
   }
  }
 },
 "nbformat": 4,
 "nbformat_minor": 0
}