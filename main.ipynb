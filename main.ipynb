{
 "cells": [
  {
   "cell_type": "code",
   "execution_count": 31,
   "metadata": {
    "collapsed": true,
    "pycharm": {
     "is_executing": false
    }
   },
   "outputs": [],
   "source": [
    "__author__ = \"Olivier Witteman\"\n",
    "__email__ = \"olivier@2001.net\"\n",
    "\n",
    "from sklearn.ensemble import RandomForestRegressor\n",
    "from sklearn.neural_network import MLPRegressor\n",
    "from sklearn.datasets import make_regression\n",
    "import numpy as np\n",
    "import time\n",
    "import scipy.stats as sps\n",
    "from scitime import Estimator\n",
    "import time_complexity as tcom"
   ]
  },
  {
   "cell_type": "code",
   "execution_count": 20,
   "outputs": [],
   "source": [
    "# General parameters\n",
    "n = 1\n",
    "\n",
    "# Dataset parameters\n",
    "features = 8\n",
    "set_size = int(1e4)\n",
    "\n",
    "X, y = make_regression(n_samples=set_size, n_features=features, random_state=0)\n",
    "\n",
    "# Random forest parameters\n",
    "max_trees = 100\n",
    "tries_tree = set_size\n",
    "\n",
    "# Neural network parameters\n",
    "output_nodes = 1\n",
    "iterations = 30\n",
    "hidden_layers = (100, 100, 100, 100)\n",
    "batch_size = 200"
   ],
   "metadata": {
    "collapsed": false,
    "pycharm": {
     "name": "#%%\n",
     "is_executing": false
    }
   }
  },
  {
   "cell_type": "code",
   "execution_count": 21,
   "outputs": [
    {
     "name": "stderr",
     "text": [
      "scitime.estimate.Estimator:INFO:Training your model for these params: {'total_memory': [8589934592], 'available_memory': [2230190080], 'num_cpu': [4], 'num_rows': [100000], 'num_features': [8], 'n_estimators': [100], 'max_depth': [None], 'min_samples_split': [2], 'min_samples_leaf': [1], 'min_weight_fraction_leaf': [0.0], 'max_features': ['auto'], 'criterion': ['mse'], 'max_leaf_nodes': [None], 'min_impurity_decrease': [0.0], 'min_impurity_split': [None], 'bootstrap': [True], 'oob_score': [False], 'n_jobs': [None]}\n",
      "scitime.estimate.Estimator:INFO:Transforming dataset for semi dummy features\n",
      "scitime.estimate.Estimator:WARNING:Parameters ['ccp_alpha', 'max_samples', 'random_state', 'verbose', 'warm_start'] will not be accounted for\n",
      "scitime.estimate.Estimator:INFO:Training your RandomForestRegressor model should take ~ 29 seconds\n",
      "scitime.estimate.Estimator:INFO:The 95.0% prediction interval is [1 second, 1 minute\n",
      "                and 16 seconds]\n"
     ],
     "output_type": "stream"
    },
    {
     "name": "stdout",
     "text": [
      "DescribeResult(nobs=5, minmax=(81.40264391899109, 90.14986515045166), mean=84.70289516448975, variance=18.322374730029708, skewness=0.45871045166988206, kurtosis=-1.7168310095765849)"
     ],
     "output_type": "stream"
    }
   ],
   "source": [
    "estimator = Estimator(meta_algo='RF', verbose=2)\n",
    "rfr = RandomForestRegressor(n_estimators=max_trees)\n",
    "\n",
    "# Estimation by scitime\n",
    "estimation, lower_bound, upper_bound = estimator.time(rfr, X, y=y)\n",
    "\n",
    "tlst_rf = []\n",
    "\n",
    "for _ in range(n):\n",
    "    t0 = time.time()\n",
    "    rfr.fit(X, y)\n",
    "    tlst_rf.append(time.time()-t0)\n",
    "\n",
    "    print('\\r{!s}'.format(sps.describe(tlst_rf)), end='')"
   ],
   "metadata": {
    "collapsed": false,
    "pycharm": {
     "name": "#%%\n",
     "is_executing": false
    }
   }
  },
  {
   "cell_type": "code",
   "execution_count": 22,
   "outputs": [],
   "source": [
    "# y_hat = rfr.predict(X)\n",
    "# print(y.shape)\n",
    "# np.mean(np.abs(y-y_hat))"
   ],
   "metadata": {
    "collapsed": false,
    "pycharm": {
     "name": "#%%\n",
     "is_executing": false
    }
   }
  },
  {
   "cell_type": "code",
   "execution_count": 30,
   "outputs": [
    {
     "name": "stdout",
     "text": [
      "5.297002936877582\n"
     ],
     "output_type": "stream"
    }
   ],
   "source": [
    "trees = len(rfr.estimators_)\n",
    "t_b = tcom.big_o_rfr(n_base=np.average(tlst_rf), n_tree=trees, m_try=tries_tree, n=set_size, inv=True)\n",
    "\n",
    "# print(t_b)\n",
    "print(tcom.big_o_nn(n_base=t_b, m=features, o=output_nodes, i=iterations, nodes=hidden_layers, t=set_size, inv=False))"
   ],
   "metadata": {
    "collapsed": false,
    "pycharm": {
     "name": "#%%\n",
     "is_executing": false
    }
   }
  },
  {
   "cell_type": "code",
   "execution_count": 24,
   "outputs": [
    {
     "name": "stdout",
     "text": [
      "DescribeResult(nobs=5, minmax=(1.5020480155944824, 60.19721579551697), mean=28.534644317626952, variance=707.7125022920035, skewness=0.29481995347797896, kurtosis=-1.708871511477005))"
     ],
     "output_type": "stream"
    }
   ],
   "source": [
    "nn = MLPRegressor(hidden_layer_sizes=hidden_layers, max_iter=iterations, batch_size=batch_size)\n",
    "\n",
    "tlst_nn = []\n",
    "\n",
    "for _ in range(n):\n",
    "    t0 = time.time()\n",
    "    nn.fit(X, y)\n",
    "    tlst_nn.append(time.time()-t0)\n",
    "\n",
    "    print('\\r{!s}'.format(sps.describe(tlst_nn)), end='')"
   ],
   "metadata": {
    "collapsed": false,
    "pycharm": {
     "name": "#%%\n",
     "is_executing": false
    }
   }
  },
  {
   "cell_type": "code",
   "execution_count": 25,
   "outputs": [],
   "source": [
    "# y_hat = nn.predict(X)\n",
    "# np.mean(np.abs(y-y_hat))"
   ],
   "metadata": {
    "collapsed": false,
    "pycharm": {
     "name": "#%%\n",
     "is_executing": false
    }
   }
  }
 ],
 "metadata": {
  "kernelspec": {
   "display_name": "Python 3",
   "language": "python",
   "name": "python3"
  },
  "language_info": {
   "codemirror_mode": {
    "name": "ipython",
    "version": 2
   },
   "file_extension": ".py",
   "mimetype": "text/x-python",
   "name": "python",
   "nbconvert_exporter": "python",
   "pygments_lexer": "ipython2",
   "version": "2.7.6"
  },
  "pycharm": {
   "stem_cell": {
    "cell_type": "raw",
    "source": [],
    "metadata": {
     "collapsed": false
    }
   }
  }
 },
 "nbformat": 4,
 "nbformat_minor": 0
}