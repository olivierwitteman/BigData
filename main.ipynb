{
 "cells": [
  {
   "cell_type": "code",
   "execution_count": 1,
   "metadata": {
    "pycharm": {
     "is_executing": false
    }
   },
   "outputs": [],
   "source": [
    "__author__ = \"Olivier Witteman\"\n",
    "__email__ = \"olivier@2001.net\"\n",
    "\n",
    "from sklearn.ensemble import RandomForestRegressor\n",
    "from sklearn.neural_network import MLPRegressor\n",
    "from sklearn.datasets import make_regression\n",
    "import numpy as np\n",
    "import time\n",
    "import scipy.stats as sps\n",
    "from scitime import Estimator\n",
    "import time_complexity as tcom"
   ]
  },
  {
   "cell_type": "code",
   "execution_count": 2,
   "metadata": {
    "pycharm": {
     "is_executing": false,
     "name": "#%%\n"
    }
   },
   "outputs": [],
   "source": [
    "# General parameters\n",
    "n = 5\n",
    "\n",
    "# Dataset parameters\n",
    "features = 3000\n",
    "set_size = int(1e4)\n",
    "\n",
    "X, y = make_regression(n_samples=set_size, n_features=features, random_state=0)\n",
    "\n",
    "# Random forest parameters\n",
    "max_trees = 100\n",
    "tries_tree = set_size\n",
    "\n",
    "# Neural network parameters\n",
    "output_nodes = 1\n",
    "iterations = 30\n",
    "hidden_layers = (8, 100, 100, 100, 100, 1)\n",
    "batch_size = 200"
   ]
  },
  {
   "cell_type": "code",
   "execution_count": 3,
   "metadata": {
    "pycharm": {
     "is_executing": false,
     "name": "#%%\n"
    }
   },
   "outputs": [
    {
     "name": "stderr",
     "text": [
      "scitime.estimate.Estimator:INFO:Training your model for these params: {'total_memory': [8589934592], 'available_memory': [2733043712], 'num_cpu': [4], 'num_rows': [10000], 'num_features': [3000], 'n_estimators': [100], 'max_depth': [None], 'min_samples_split': [2], 'min_samples_leaf': [1], 'min_weight_fraction_leaf': [0.0], 'max_features': ['auto'], 'criterion': ['mse'], 'max_leaf_nodes': [None], 'min_impurity_decrease': [0.0], 'min_impurity_split': [None], 'bootstrap': [True], 'oob_score': [False], 'n_jobs': [None]}\n",
      "scitime.estimate.Estimator:INFO:Transforming dataset for semi dummy features\n",
      "scitime.estimate.Estimator:WARNING:Parameters ['max_samples', 'random_state', 'warm_start', 'ccp_alpha', 'verbose'] will not be accounted for\n",
      "scitime.estimate.Estimator:INFO:Training your RandomForestRegressor model should take ~ 7 minutes\n",
      "                and 11 seconds\n",
      "scitime.estimate.Estimator:INFO:The 95.0% prediction interval is [0 seconds, 45 minutes\n",
      "                and 22 seconds]\n"
     ],
     "output_type": "stream"
    }
   ],
   "source": [
    "estimator = Estimator(meta_algo='RF', verbose=2)\n",
    "rfr = RandomForestRegressor(n_estimators=max_trees)\n",
    "\n",
    "# Estimation by scitime\n",
    "estimation, lower_bound, upper_bound = estimator.time(rfr, X, y=y)\n",
    "\n",
    "tlst_rf = []\n",
    "\n",
    "# for _ in range(n):\n",
    "#     t0 = time.time()\n",
    "#     rfr.fit(X, y)\n",
    "#     tlst_rf.append(time.time()-t0)\n",
    "# \n",
    "#     print('\\r{!s}'.format(sps.describe(tlst_rf)), end='')"
   ]
  },
  {
   "cell_type": "code",
   "execution_count": 4,
   "metadata": {
    "pycharm": {
     "is_executing": false,
     "name": "#%%\n"
    }
   },
   "outputs": [
    {
     "traceback": [
      "\u001b[0;31m---------------------------------------------------------------------------\u001b[0m",
      "\u001b[0;31mTypeError\u001b[0m                                 Traceback (most recent call last)",
      "\u001b[0;32m<ipython-input-4-3cf596f1c8da>\u001b[0m in \u001b[0;36m<module>\u001b[0;34m\u001b[0m\n\u001b[1;32m      5\u001b[0m \u001b[0mnn_est\u001b[0m \u001b[0;34m=\u001b[0m \u001b[0mtcom\u001b[0m\u001b[0;34m.\u001b[0m\u001b[0mbig_o_nn\u001b[0m\u001b[0;34m(\u001b[0m\u001b[0mn_base\u001b[0m\u001b[0;34m=\u001b[0m\u001b[0mt_b\u001b[0m\u001b[0;34m,\u001b[0m \u001b[0mm\u001b[0m\u001b[0;34m=\u001b[0m\u001b[0mfeatures\u001b[0m\u001b[0;34m,\u001b[0m \u001b[0mo\u001b[0m\u001b[0;34m=\u001b[0m\u001b[0moutput_nodes\u001b[0m\u001b[0;34m,\u001b[0m \u001b[0mi\u001b[0m\u001b[0;34m=\u001b[0m\u001b[0miterations\u001b[0m\u001b[0;34m,\u001b[0m \u001b[0mnodes\u001b[0m\u001b[0;34m=\u001b[0m\u001b[0mhidden_layers\u001b[0m\u001b[0;34m,\u001b[0m \u001b[0mt\u001b[0m\u001b[0;34m=\u001b[0m\u001b[0mset_size\u001b[0m\u001b[0;34m,\u001b[0m \u001b[0minv\u001b[0m\u001b[0;34m=\u001b[0m\u001b[0;32mFalse\u001b[0m\u001b[0;34m)\u001b[0m\u001b[0;34m\u001b[0m\u001b[0;34m\u001b[0m\u001b[0m\n\u001b[1;32m      6\u001b[0m print('Neural network training time estimate (95% confidence interval):\\n\\nEstimate:    {!s}\\nLower bound: '\n\u001b[0;32m----> 7\u001b[0;31m       '{!s}\\nUpper bound: {!s}'.format(nn_est[0], nn_est[1], nn_est[2]))\n\u001b[0m\u001b[1;32m      8\u001b[0m \u001b[0;34m\u001b[0m\u001b[0m\n",
      "\u001b[0;31mTypeError\u001b[0m: 'int' object is not subscriptable"
     ],
     "ename": "TypeError",
     "evalue": "'int' object is not subscriptable",
     "output_type": "error"
    }
   ],
   "source": [
    "trees = len(rfr.estimators_)\n",
    "t_b = tcom.big_o_rfr(n_base=np.array([estimation, lower_bound, upper_bound]), n_tree=trees, m_try=tries_tree,\n",
    "                     n=min(set_size, int(2e4)), inv=True)\n",
    "\n",
    "nn_est = tcom.big_o_nn(n_base=t_b, m=features, o=output_nodes, i=iterations, nodes=hidden_layers, t=set_size, inv=False)\n",
    "print('Neural network training time estimate (95% confidence interval):\\n\\nEstimate:    {!s}\\nLower bound: '\n",
    "      '{!s}\\nUpper bound: {!s}'.format(nn_est[0], nn_est[1], nn_est[2]))"
   ]
  },
  {
   "cell_type": "code",
   "execution_count": null,
   "metadata": {
    "pycharm": {
     "is_executing": false,
     "name": "#%%\n"
    }
   },
   "outputs": [],
   "source": [
    "nn = MLPRegressor(hidden_layer_sizes=hidden_layers, max_iter=iterations, batch_size=batch_size)\n",
    "\n",
    "tlst_nn = []\n",
    "\n",
    "for _ in range(n):\n",
    "    t0 = time.time()\n",
    "    nn.fit(X, y)\n",
    "    tlst_nn.append(time.time()-t0)\n",
    "\n",
    "    print('\\r{!s}'.format(sps.describe(tlst_nn)), end='')"
   ]
  }
 ],
 "metadata": {
  "kernelspec": {
   "display_name": "Python 3",
   "language": "python",
   "name": "python3"
  },
  "language_info": {
   "codemirror_mode": {
    "name": "ipython",
    "version": 3
   },
   "file_extension": ".py",
   "mimetype": "text/x-python",
   "name": "python",
   "nbconvert_exporter": "python",
   "pygments_lexer": "ipython3",
   "version": "3.7.6"
  },
  "pycharm": {
   "stem_cell": {
    "cell_type": "raw",
    "source": [],
    "metadata": {
     "collapsed": false
    }
   }
  }
 },
 "nbformat": 4,
 "nbformat_minor": 1
}