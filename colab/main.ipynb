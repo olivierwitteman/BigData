{
 "cells": [
  {
   "cell_type": "code",
   "execution_count": null,
   "outputs": [],
   "source": [
    "__author__ = \"Olivier Witteman\"\n",
    "__email__ = \"olivier@2001.net\"\n",
    "\n",
    "from sklearn.ensemble import RandomForestRegressor\n",
    "from sklearn.neural_network import MLPRegressor\n",
    "from sklearn.datasets import make_regression\n",
    "import numpy as np\n",
    "import time\n",
    "import scipy.stats as sps\n",
    "from scitime import Estimator\n",
    "\n",
    "def big_o_nn(n_base, m=1, o=1, i=1, nodes=(100, 8), t=1, method='scikit', inv=False):\n",
    "    \"\"\"\n",
    "    Calculates the expected computation effort compared to n_time\n",
    "\n",
    "    :param n_base: Calculation time for baseline n\n",
    "    :param algo: algorithm to calculate computation effort for\n",
    "    :param m: features\n",
    "    :param o: output neurons\n",
    "    :param i: iterations\n",
    "    :param nodes: list of node sizes (ie. [a, b, c, d] for a 4 layer network)\n",
    "    :param t: training examples\n",
    "    :param method: method for complexity calculation\n",
    "    :return: Calculation time extrapolated to parameters that will be used\n",
    "    \"\"\"\n",
    "\n",
    "    nodecomplexity = 0\n",
    "    for q in range(len(nodes) - 1):\n",
    "        nodecomplexity += nodes[q] * nodes[q + 1]\n",
    "\n",
    "    if method == 'stack':\n",
    "        # https://ai.stackexchange.com/questions/5728/what-is-the-time-complexity-for-training-a-neural-network-using-back-propagation\n",
    "        if inv:\n",
    "            return n_base / (t * nodecomplexity)\n",
    "        else:\n",
    "            return n_base * t * nodecomplexity\n",
    "    elif method == 'scikit':\n",
    "        # https://scikit-learn.org/stable/modules/neural_networks_supervised.html\n",
    "        if inv:\n",
    "            return n_base / (t * m * nodecomplexity * o * i)\n",
    "        else:\n",
    "            return n_base * t * nodecomplexity * o * i # * m\n",
    "\n",
    "\n",
    "def big_o_rfr(n_base, n_tree, m_try, n, inv=False):\n",
    "    \"\"\"\n",
    "\n",
    "    :param n_base:\n",
    "    :param n_tree:\n",
    "    :param m_try:\n",
    "    :param n:\n",
    "    :return:\n",
    "    \"\"\"\n",
    "    if inv:\n",
    "        return n_base / (n_tree * m_try * n * np.log(n))\n",
    "    else:\n",
    "        return n_base * n_tree * m_try * n * np.log(n)\n",
    "\n",
    "\n",
    "def big_o_inv(time, algo='RandomForestRegressor', n=1, t=1):\n",
    "    \"\"\"\n",
    "    Calculates baseline n from a sample training with parameters used\n",
    "\n",
    "    :param time: Actual calculation time using given parameters\n",
    "    :param algo: algorithm used\n",
    "    :param n: algorithm parameter sample size\n",
    "    :param t: algorithm parameter trees\n",
    "    :return: Baseline n calculation time\n",
    "    \"\"\"\n",
    "    if algo == 'KMeans':\n",
    "        # return time ** -(d * k + 1)\n",
    "        return None\n",
    "    elif algo == 'SVC':\n",
    "        return None\n",
    "    elif algo == 'RandomForestClassifier':\n",
    "        return None\n",
    "    elif algo == 'RandomForestRegressor':\n",
    "        return np.sqrt(time / (n * t))\n",
    "    else:\n",
    "        return None\n",
    "\n",
    "\n",
    "# t_b = big_o_rfr(n_base=6, n_tree=100, m_try=int(1e4), n=int(1e4), inv=True)\n",
    "# print(t_b)\n",
    "# print(big_o_nn(n_base=t_b, m=8, o=1, i=30, nodes=(100, 100, 100, 100), t=int(200), inv=False))"
   ],
   "metadata": {
    "collapsed": false,
    "pycharm": {
     "name": "#%%\n"
    }
   }
  },
  {
   "cell_type": "code",
   "execution_count": null,
   "outputs": [],
   "source": [
    "# General parameters\n",
    "n = 5\n",
    "\n",
    "# Dataset parameters\n",
    "features = 3000\n",
    "set_size = int(1e4)\n",
    "\n",
    "X, y = make_regression(n_samples=set_size, n_features=features, random_state=0)\n",
    "\n",
    "# Random forest parameters\n",
    "max_trees = 100\n",
    "tries_tree = set_size\n",
    "\n",
    "# Neural network parameters\n",
    "output_nodes = 1\n",
    "iterations = 30\n",
    "hidden_layers = (8, 100, 100, 100, 100, 1)\n",
    "batch_size = 200"
   ],
   "metadata": {
    "collapsed": false,
    "pycharm": {
     "name": "#%%\n"
    }
   }
  },
  {
   "cell_type": "code",
   "execution_count": null,
   "outputs": [],
   "source": [
    "estimator = Estimator(meta_algo='RF', verbose=2)\n",
    "rfr = RandomForestRegressor(n_estimators=max_trees)\n",
    "\n",
    "# Estimation by scitime\n",
    "estimation, lower_bound, upper_bound = estimator.time(rfr, X, y=y)\n",
    "\n",
    "tlst_rf = []\n",
    "\n",
    "# for _ in range(n):\n",
    "#     t0 = time.time()\n",
    "#     rfr.fit(X, y)\n",
    "#     tlst_rf.append(time.time()-t0)\n",
    "# \n",
    "#     print('\\r{!s}'.format(sps.describe(tlst_rf)), end='')"
   ],
   "metadata": {
    "collapsed": false,
    "pycharm": {
     "name": "#%%\n"
    }
   }
  },
  {
   "cell_type": "code",
   "execution_count": null,
   "outputs": [],
   "source": [
    "trees = len(rfr.estimators_)\n",
    "t_b = big_o_rfr(n_base=np.array([estimation, lower_bound, upper_bound]), n_tree=trees, m_try=tries_tree,\n",
    "                     n=min(set_size, int(2e4)), inv=True)\n",
    "\n",
    "nn_est = big_o_nn(n_base=t_b, m=features, o=output_nodes, i=iterations, nodes=hidden_layers, t=set_size, inv=False)\n",
    "print('Neural network training time estimate (95% confidence interval):\\n\\nEstimate:    {!s}\\nLower bound: '\n",
    "      '{!s}\\nUpper bound: {!s}'.format(nn_est[0], nn_est[1], nn_est[2]))"
   ],
   "metadata": {
    "collapsed": false,
    "pycharm": {
     "name": "#%%\n"
    }
   }
  },
  {
   "cell_type": "code",
   "execution_count": null,
   "outputs": [],
   "source": [
    "nn = MLPRegressor(hidden_layer_sizes=hidden_layers, max_iter=iterations, batch_size=batch_size)\n",
    "\n",
    "tlst_nn = []\n",
    "\n",
    "for _ in range(n):\n",
    "    t0 = time.time()\n",
    "    nn.fit(X, y)\n",
    "    tlst_nn.append(time.time()-t0)\n",
    "\n",
    "    print('\\r{!s}'.format(sps.describe(tlst_nn)), end='')\n",
    "\n"
   ],
   "metadata": {
    "collapsed": false,
    "pycharm": {
     "name": "#%%\n"
    }
   }
  }
 ],
 "metadata": {
  "kernelspec": {
   "display_name": "Python 3",
   "language": "python",
   "name": "python3"
  },
  "language_info": {
   "codemirror_mode": {
    "name": "ipython",
    "version": 2
   },
   "file_extension": ".py",
   "mimetype": "text/x-python",
   "name": "python",
   "nbconvert_exporter": "python",
   "pygments_lexer": "ipython2",
   "version": "2.7.6"
  },
  "pycharm": {
   "stem_cell": {
    "cell_type": "raw",
    "source": [],
    "metadata": {
     "collapsed": false
    }
   }
  }
 },
 "nbformat": 4,
 "nbformat_minor": 0
}